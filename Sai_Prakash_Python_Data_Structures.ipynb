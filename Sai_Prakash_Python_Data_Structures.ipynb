{
  "nbformat": 4,
  "nbformat_minor": 0,
  "metadata": {
    "colab": {
      "provenance": []
    },
    "kernelspec": {
      "name": "python3",
      "display_name": "Python 3"
    },
    "language_info": {
      "name": "python"
    }
  },
  "cells": [
    {
      "cell_type": "markdown",
      "source": [
        "# Theory Questions"
      ],
      "metadata": {
        "id": "VbhayBAvF3-_"
      }
    },
    {
      "cell_type": "markdown",
      "source": [
        "1. What are data structures, and why are they important ?\n",
        "\n",
        "Data structures are effective methods for arranging and storing data so that it may be accessed and modified.\n",
        "\n",
        "They are significant because they affect memory usage and temporal complexity by determining how efficient algorithms are. Arrays, lists, stacks, queues, sets, and dictionaries are a few examples."
      ],
      "metadata": {
        "id": "V4fbmdLuF8Q-"
      }
    },
    {
      "cell_type": "markdown",
      "source": [
        "2. Explain the difference between mutable and immutable data types with examples ?\n",
        "\n",
        "Mutable: After creation, it can be changed.\n",
        "Immutable: Unchangeable once created.\n",
        "\n",
        "We can see with below example.\n",
        "\n",
        "Tuple gives error"
      ],
      "metadata": {
        "id": "O1Oe3AalGHts"
      }
    },
    {
      "cell_type": "code",
      "source": [
        "list_1 = [1, 2, 3]\n",
        "list_1[0] = 4\n",
        "print(list_1)"
      ],
      "metadata": {
        "colab": {
          "base_uri": "https://localhost:8080/"
        },
        "id": "dt8iLzzQGMTe",
        "outputId": "cfb35378-ba0f-44ca-ad3d-c26e03564fe5"
      },
      "execution_count": 2,
      "outputs": [
        {
          "output_type": "stream",
          "name": "stdout",
          "text": [
            "[4, 2, 3]\n"
          ]
        }
      ]
    },
    {
      "cell_type": "code",
      "source": [
        "tuple_1 = (1,2,3)\n",
        "tuple_1[0] = 4"
      ],
      "metadata": {
        "colab": {
          "base_uri": "https://localhost:8080/",
          "height": 162
        },
        "id": "SDVX-XSbGTeK",
        "outputId": "7844dc79-3967-43f4-90ec-d9bc2a1eba0a"
      },
      "execution_count": 3,
      "outputs": [
        {
          "output_type": "error",
          "ename": "TypeError",
          "evalue": "'tuple' object does not support item assignment",
          "traceback": [
            "\u001b[0;31m---------------------------------------------------------------------------\u001b[0m",
            "\u001b[0;31mTypeError\u001b[0m                                 Traceback (most recent call last)",
            "\u001b[0;32m<ipython-input-3-42cb8efa957f>\u001b[0m in \u001b[0;36m<cell line: 2>\u001b[0;34m()\u001b[0m\n\u001b[1;32m      1\u001b[0m \u001b[0mtuple_1\u001b[0m \u001b[0;34m=\u001b[0m \u001b[0;34m(\u001b[0m\u001b[0;36m1\u001b[0m\u001b[0;34m,\u001b[0m\u001b[0;36m2\u001b[0m\u001b[0;34m,\u001b[0m\u001b[0;36m3\u001b[0m\u001b[0;34m)\u001b[0m\u001b[0;34m\u001b[0m\u001b[0;34m\u001b[0m\u001b[0m\n\u001b[0;32m----> 2\u001b[0;31m \u001b[0mtuple_1\u001b[0m\u001b[0;34m[\u001b[0m\u001b[0;36m0\u001b[0m\u001b[0;34m]\u001b[0m \u001b[0;34m=\u001b[0m \u001b[0;36m4\u001b[0m\u001b[0;34m\u001b[0m\u001b[0;34m\u001b[0m\u001b[0m\n\u001b[0m",
            "\u001b[0;31mTypeError\u001b[0m: 'tuple' object does not support item assignment"
          ]
        }
      ]
    },
    {
      "cell_type": "markdown",
      "source": [
        "3. What are the main differences between lists and tuples in Python ?\n",
        "\n",
        " Lists are slower, mutable, and utilized when frequent changes are required.\n",
        "\n",
        " Tuples: Used when data shouldn't change, they're speedier and immutable."
      ],
      "metadata": {
        "id": "Xhnkt7LeGnGE"
      }
    },
    {
      "cell_type": "markdown",
      "source": [
        "4. Describe how dictionaries store data ?\n",
        "   A hash table is used by dictionaries to store information as key-value pairs.\n",
        "\n",
        "  Fast lookups are made possible by hashing keys to find the location of their associated values in memory.\n",
        "\n"
      ],
      "metadata": {
        "id": "22eyUlz5cesd"
      }
    },
    {
      "cell_type": "markdown",
      "source": [
        "5. Why might you use a set instead of a list in Python ?\n",
        "   - In Python, there are various reasons why you would want to use a set rather than a list:\n",
        "\n",
        "   - Duplicate elements are automatically eliminated from a set to guarantee that each element is distinct.\n",
        "\n",
        "   - Faster Membership Testing: Compared to a list (O(n)), it takes less time (average time complexity O(1)) to determine whether an element is present in a set.\n",
        "\n",
        "   - Effective and simple operations like union, intersection, and difference are supported by sets, making them ideal for set operations.\n",
        "\n",
        "   - Sets can be used in place of lists where the order of the components is irrelevant.\n",
        "  When to stay away from sets:\n",
        "\n",
        "   - If you have duplicate items or need to keep the pieces in order, use a list.\n"
      ],
      "metadata": {
        "id": "CDb44vhQcvaH"
      }
    },
    {
      "cell_type": "markdown",
      "source": [
        "6. What is a string in Python, and how is it different from a list ?\n",
        "   - In Python, a string is a collection of characters that are used to represent text and are surrounded by single or double quotes. Strings cannot be altered after they are formed because they are immutable. For instance:\n",
        "\n",
        "   - my_string = \"Hello World\"\n",
        "\n",
        "   - The main distinction between a string and a list is:\n",
        "A list is a flexible, mutable collection that can contain any type of data, whereas a string is a fixed, immutable sequence of characters.\n",
        "\n",
        "\n",
        "\n",
        "\n",
        "\n",
        "\n",
        "\n",
        "\n"
      ],
      "metadata": {
        "id": "tZxUV6aGdUBT"
      }
    },
    {
      "cell_type": "markdown",
      "source": [
        "7.  How do tuples ensure data integrity in Python ?\n",
        "\n",
        "   - Because they are immutable, tuples in Python guarantee data integrity. A tuple's elements cannot be changed, added, or removed after it has been constructed. The following advantages result from its immutability:\n",
        "\n",
        "   - Protection Against Unintentional Changes: Tuples shield data from unintentional modification while a program is running since they cannot be changed.\n",
        "\n",
        "   - Reliable Data Storage: Configuration values and other constant data that must stay the same throughout the application are best stored in tuples.\n",
        "\n",
        "   - Hashability: If a tuple solely contains hashable elements, it can be used as a dictionary key or as an element in a set. This characteristic is essential for preserving distinct, immutable data.\n",
        "\n",
        "   - Performance Optimization: Python may optimize tuples' memory usage and access time due to their immutability, which makes them faster than lists for some operations.\n",
        "\n",
        "\n"
      ],
      "metadata": {
        "id": "Fy8Du_weeDK-"
      }
    },
    {
      "cell_type": "markdown",
      "source": [
        "8. What is a hash table, and how does it relate to dictionaries in Python ?\n",
        "   - A data structure that uses a hash function to map keys to values is called a hash table.\n",
        "\n",
        "   - Python dictionaries are implemented as hash tables, which provide quick access and updates.\n",
        "\n"
      ],
      "metadata": {
        "id": "EVfNZ2aCehrd"
      }
    },
    {
      "cell_type": "markdown",
      "source": [
        "9. Can lists contain different data types in Python ?\n",
        "   - Yes, Python lists can hold elements of various data types."
      ],
      "metadata": {
        "id": "Lxl6076vevB6"
      }
    },
    {
      "cell_type": "code",
      "source": [
        "my_list = [1, \"hello\", 3.14, [1, 2]]\n",
        "my_list"
      ],
      "metadata": {
        "colab": {
          "base_uri": "https://localhost:8080/"
        },
        "id": "-yMPie5-e0kX",
        "outputId": "f5d26c2f-e16b-4d18-b0a3-e6bd7a3ec636"
      },
      "execution_count": null,
      "outputs": [
        {
          "output_type": "execute_result",
          "data": {
            "text/plain": [
              "[1, 'hello', 3.14, [1, 2]]"
            ]
          },
          "metadata": {},
          "execution_count": 6
        }
      ]
    },
    {
      "cell_type": "markdown",
      "source": [
        "10.  Explain why strings are immutable in Python ?\n",
        "     - Strings are immutable for performance and security reasons. Any modification creates a new string rather than altering the original."
      ],
      "metadata": {
        "id": "8ErnUOWNe5cJ"
      }
    },
    {
      "cell_type": "markdown",
      "source": [
        "11. What advantages do dictionaries offer over lists for certain tasks ?\n",
        "    - Dictionaries provide faster lookups for key-value mappings, ideal for scenarios requiring quick data retrieval by unique keys."
      ],
      "metadata": {
        "id": "Uu4-YX5mfFG9"
      }
    },
    {
      "cell_type": "markdown",
      "source": [
        "12.  Describe a scenario where using a tuple would be preferable over a list ?\n",
        "     - When you need constant data, like coordinates (x, y), where accidental modification should be avoided."
      ],
      "metadata": {
        "id": "fDPyNGoafMJT"
      }
    },
    {
      "cell_type": "markdown",
      "source": [
        "13. How do sets handle duplicate values in Python ?\n",
        "    - Sets automatically remove duplicates and keep only unique components."
      ],
      "metadata": {
        "id": "5hvz5MdTfTtv"
      }
    },
    {
      "cell_type": "code",
      "source": [
        "#question 13 example code\n",
        "my_set = {1, 2, 2, 3,3}\n",
        "my_set"
      ],
      "metadata": {
        "colab": {
          "base_uri": "https://localhost:8080/"
        },
        "id": "kgomVkDBfeLJ",
        "outputId": "1e2cf4f2-9111-4a90-9f88-e1515787f9b1"
      },
      "execution_count": 4,
      "outputs": [
        {
          "output_type": "execute_result",
          "data": {
            "text/plain": [
              "{1, 2, 3}"
            ]
          },
          "metadata": {},
          "execution_count": 4
        }
      ]
    },
    {
      "cell_type": "markdown",
      "source": [
        "14. How does the “in” keyword work differently for lists and dictionaries ?\n",
        "    - It determines whether a value exists for lists:"
      ],
      "metadata": {
        "id": "y56ExrLwfkf-"
      }
    },
    {
      "cell_type": "code",
      "source": [
        "#example code\n",
        "1 in [1, 2, 3]"
      ],
      "metadata": {
        "colab": {
          "base_uri": "https://localhost:8080/"
        },
        "id": "8H6SR7R7fxhK",
        "outputId": "ac8d1665-4ca6-4b9f-ce49-ea94595544e0"
      },
      "execution_count": null,
      "outputs": [
        {
          "output_type": "execute_result",
          "data": {
            "text/plain": [
              "True"
            ]
          },
          "metadata": {},
          "execution_count": 8
        }
      ]
    },
    {
      "cell_type": "markdown",
      "source": [
        "For dictionaries it checks keys"
      ],
      "metadata": {
        "id": "Svm33kKLHa6a"
      }
    },
    {
      "cell_type": "code",
      "source": [
        "#example code\n",
        "'a' in {'a': 1, 'b': 2}\n"
      ],
      "metadata": {
        "colab": {
          "base_uri": "https://localhost:8080/"
        },
        "id": "jmEgLtPUf4tf",
        "outputId": "bdf70fb2-0055-4c1c-9fb1-041a1defe507"
      },
      "execution_count": null,
      "outputs": [
        {
          "output_type": "execute_result",
          "data": {
            "text/plain": [
              "True"
            ]
          },
          "metadata": {},
          "execution_count": 10
        }
      ]
    },
    {
      "cell_type": "markdown",
      "source": [
        "15. Can you modify the elements of a tuple? Explain why or why not ?\n",
        "    - No, tuples cannot be changed. Elements' promise of immutability would be broken if they were modified. However, the objects themselves can be changed if a tuple contains changeable objects (like lists).\n"
      ],
      "metadata": {
        "id": "W-HXOFrzgDwg"
      }
    },
    {
      "cell_type": "markdown",
      "source": [
        "16. What is a nested dictionary, and give an example of its use case ?\n",
        "    - A nested dictionary contains dictionaries as values.\n",
        "    - Use case: Storing hierarchical data."
      ],
      "metadata": {
        "id": "f8p-GKHbgXoF"
      }
    },
    {
      "cell_type": "markdown",
      "source": [
        "17. Describe the time complexity of accessing elements in a dictionary ?\n",
        "    - Python's hash table implementation makes it generally very efficient to access elements in a dictionary.\n",
        "\n",
        "    - Average Case: O(1) Dictionary keys are mapped to their values using a hash function. This results in constant-time complexity on average since the dictionary can access the value directly without iterating over all the keys.\n",
        "\n",
        "    - O(n) is the worst case.\n",
        "    Hash collisions can occasionally happen when several keys are hashed to the same value. Performance may suffer as a result, necessitating a linear search across the colliding keys. However, by using effective hash algorithms and resizing techniques, Python's dictionary implementation reduces these clashes.\n",
        "\n",
        "    - Complexity Amortized: O(1)\n",
        "    Even with sporadic collisions or resizing, Python's optimizations keep the overall speed for the majority of realistic use cases around constant time.\n"
      ],
      "metadata": {
        "id": "N5gt6G2MhAM2"
      }
    },
    {
      "cell_type": "markdown",
      "source": [
        "18.  In what situations are lists preferred over dictionaries ?\n",
        "     - Ordered Data: Lists are perfect for situations where the data sequence is crucial because they preserve the elements' order.\n",
        "\n",
        "     - Sequential Access: Lists work better when elements are accessed by their position (index) as opposed to a key.\n",
        "\n",
        "     - Homogeneous Data: Lists are often used to store collections of similar or related data, such as numbers or strings, without requiring a key-value structure.\n",
        "\n",
        "     - Simple Iteration: Iterating through a list is straightforward and efficient when you don’t need to associate values with unique keys.\n",
        "\n",
        "     - Small Dataset: For small datasets where lookups are infrequent, lists can be simpler and more memory-efficient than dictionaries.\n",
        "\n",
        "     - Dynamic Resizing: Lists are better suited when the size of the collection is frequently changing, as elements can be added or removed easily.\n",
        "\n",
        "\n"
      ],
      "metadata": {
        "id": "aYJQAkddhhIl"
      }
    },
    {
      "cell_type": "markdown",
      "source": [
        "19. Why are dictionaries considered unordered, and how does that affect data retrieval ?\n",
        "    - Dictionaries (before Python 3.7) had no guaranteed order for keys. While insertion order is preserved in Python 3.7+, retrieval is still by key, not position."
      ],
      "metadata": {
        "id": "_HEgsRy6h49j"
      }
    },
    {
      "cell_type": "markdown",
      "source": [
        "20.  Explain the difference between a list and a dictionary in terms of data retrieval ?\n",
        "     - Lists: Use an index to get items.\n",
        "\n",
        "     - Dictionaries: Use the key to retrieve the elements.\n"
      ],
      "metadata": {
        "id": "F-nu2FHbh_v0"
      }
    },
    {
      "cell_type": "markdown",
      "source": [
        "# Practical Questions"
      ],
      "metadata": {
        "id": "jyxGmvRPH4vM"
      }
    },
    {
      "cell_type": "markdown",
      "source": [
        "1. Write a code to create a string with your name and print it ?"
      ],
      "metadata": {
        "id": "u_kz0SDmID1h"
      }
    },
    {
      "cell_type": "code",
      "source": [
        "\n",
        "name = \"Sai Prakash\"\n",
        "print(name)\n"
      ],
      "metadata": {
        "colab": {
          "base_uri": "https://localhost:8080/"
        },
        "id": "A6aKlsqFiW9o",
        "outputId": "24c4d64e-2b27-4ac1-fbcc-89f9bb5c6619"
      },
      "execution_count": 5,
      "outputs": [
        {
          "output_type": "stream",
          "name": "stdout",
          "text": [
            "Sai Prakash\n"
          ]
        }
      ]
    },
    {
      "cell_type": "markdown",
      "source": [
        "2. Write a code to find the length of the string \"Hello World\" ?"
      ],
      "metadata": {
        "id": "XzL-6mLbIIi8"
      }
    },
    {
      "cell_type": "code",
      "source": [
        "print(len(\"Hello World\"))"
      ],
      "metadata": {
        "colab": {
          "base_uri": "https://localhost:8080/"
        },
        "id": "gj0umLeJIHHn",
        "outputId": "1f5376ec-3f69-4740-f37d-70b1396478ed"
      },
      "execution_count": 6,
      "outputs": [
        {
          "output_type": "stream",
          "name": "stdout",
          "text": [
            "11\n"
          ]
        }
      ]
    },
    {
      "cell_type": "markdown",
      "source": [
        "3. Write a code to slice the first 3 characters from the string \"Python Programming\" ?"
      ],
      "metadata": {
        "id": "7zpi2zq2IUUo"
      }
    },
    {
      "cell_type": "code",
      "source": [
        "string = \"Python Programming\"\n",
        "print(string[:3])\n"
      ],
      "metadata": {
        "colab": {
          "base_uri": "https://localhost:8080/"
        },
        "id": "pQAAtbyOIQtd",
        "outputId": "aa794669-c8ec-4729-c5fb-a25ddb57ecf1"
      },
      "execution_count": 7,
      "outputs": [
        {
          "output_type": "stream",
          "name": "stdout",
          "text": [
            "Pyt\n"
          ]
        }
      ]
    },
    {
      "cell_type": "markdown",
      "source": [
        "4. Write a code to convert the string \"hello\" to uppercase ?"
      ],
      "metadata": {
        "id": "xTud-yt6IdNy"
      }
    },
    {
      "cell_type": "code",
      "source": [
        "string = \"hello\"\n",
        "print(string.upper())"
      ],
      "metadata": {
        "colab": {
          "base_uri": "https://localhost:8080/"
        },
        "id": "jFXz71-aId7x",
        "outputId": "f1b530d4-ba7a-4820-e8bb-a0ff03d51518"
      },
      "execution_count": 8,
      "outputs": [
        {
          "output_type": "stream",
          "name": "stdout",
          "text": [
            "HELLO\n"
          ]
        }
      ]
    },
    {
      "cell_type": "markdown",
      "source": [
        "5.  Write a code to replace the word \"apple\" with \"orange\" in the string \"I like apple\" ?"
      ],
      "metadata": {
        "id": "QcZTBtMUIj87"
      }
    },
    {
      "cell_type": "code",
      "source": [
        "string = \"I like apple\"\n",
        "print(string.replace(\"apple\", \"orange\"))"
      ],
      "metadata": {
        "colab": {
          "base_uri": "https://localhost:8080/"
        },
        "id": "Kyq9c0NRIgQo",
        "outputId": "b68c09f0-691a-498d-da5d-0aa4ed3f06b4"
      },
      "execution_count": 9,
      "outputs": [
        {
          "output_type": "stream",
          "name": "stdout",
          "text": [
            "I like orange\n"
          ]
        }
      ]
    },
    {
      "cell_type": "markdown",
      "source": [
        "6. Write a code to create a list with numbers 1 to 5 and print it ?"
      ],
      "metadata": {
        "id": "Fnl23SPTInJz"
      }
    },
    {
      "cell_type": "code",
      "source": [
        "numbers = [1, 2, 3, 4, 5]\n",
        "print(numbers)"
      ],
      "metadata": {
        "colab": {
          "base_uri": "https://localhost:8080/"
        },
        "id": "mXDIkUotIpbP",
        "outputId": "e08f3aa8-0e27-4d59-8fc4-36dab244afc3"
      },
      "execution_count": 10,
      "outputs": [
        {
          "output_type": "stream",
          "name": "stdout",
          "text": [
            "[1, 2, 3, 4, 5]\n"
          ]
        }
      ]
    },
    {
      "cell_type": "markdown",
      "source": [
        "7. Write a code to append the number 10 to the list [1, 2, 3, 4] ?"
      ],
      "metadata": {
        "id": "k8usyWGlItwh"
      }
    },
    {
      "cell_type": "code",
      "source": [
        "numbers = [1, 2, 3, 4]\n",
        "numbers.append(10)\n",
        "print(numbers)"
      ],
      "metadata": {
        "colab": {
          "base_uri": "https://localhost:8080/"
        },
        "id": "a3wDAuSGIsDf",
        "outputId": "150eb4f8-d966-4c2a-f0b0-ce300ce92e06"
      },
      "execution_count": 11,
      "outputs": [
        {
          "output_type": "stream",
          "name": "stdout",
          "text": [
            "[1, 2, 3, 4, 10]\n"
          ]
        }
      ]
    },
    {
      "cell_type": "markdown",
      "source": [
        "8. Write a code to remove the number 3 from the list [1, 2, 3, 4, 5] ?"
      ],
      "metadata": {
        "id": "HCyb0AkZIx-h"
      }
    },
    {
      "cell_type": "code",
      "source": [
        "numbers = [1, 2, 3, 4, 5]\n",
        "numbers.remove(3)\n",
        "print(numbers)"
      ],
      "metadata": {
        "colab": {
          "base_uri": "https://localhost:8080/"
        },
        "id": "0qsSMFkOIxYn",
        "outputId": "f41af845-da79-4afe-b462-fb6da667102a"
      },
      "execution_count": 12,
      "outputs": [
        {
          "output_type": "stream",
          "name": "stdout",
          "text": [
            "[1, 2, 4, 5]\n"
          ]
        }
      ]
    },
    {
      "cell_type": "markdown",
      "source": [
        "9. Write a code to access the second element in the list ['a', 'b', 'c', 'd'] ?"
      ],
      "metadata": {
        "id": "UUU3MglnI8HG"
      }
    },
    {
      "cell_type": "code",
      "source": [
        "\n",
        "letters = ['a', 'b', 'c', 'd']\n",
        "print(letters[1])"
      ],
      "metadata": {
        "colab": {
          "base_uri": "https://localhost:8080/"
        },
        "id": "60i1j-PsjnC7",
        "outputId": "180c9519-25f5-454b-c601-ed03a0c8ab9c"
      },
      "execution_count": null,
      "outputs": [
        {
          "output_type": "stream",
          "name": "stdout",
          "text": [
            "b\n"
          ]
        }
      ]
    },
    {
      "cell_type": "markdown",
      "source": [
        "10.  Write a code to reverse the list [10, 20, 30, 40, 50] ?"
      ],
      "metadata": {
        "id": "aUYgBLe6JANf"
      }
    },
    {
      "cell_type": "code",
      "source": [
        "\n",
        "numbers = [10, 20, 30, 40, 50]\n",
        "print(numbers[::-1])"
      ],
      "metadata": {
        "colab": {
          "base_uri": "https://localhost:8080/"
        },
        "id": "KlxYhqRAjstS",
        "outputId": "9457bedc-644f-4990-c075-668fe916c653"
      },
      "execution_count": null,
      "outputs": [
        {
          "output_type": "stream",
          "name": "stdout",
          "text": [
            "[50, 40, 30, 20, 10]\n"
          ]
        }
      ]
    },
    {
      "cell_type": "markdown",
      "source": [
        "11. Write a code to create a tuple with the elements 10, 20, 30 and print it ?"
      ],
      "metadata": {
        "id": "Bo4rnnwyJHkR"
      }
    },
    {
      "cell_type": "code",
      "source": [
        "my_tuple = (10, 20, 30)\n",
        "print(my_tuple)"
      ],
      "metadata": {
        "colab": {
          "base_uri": "https://localhost:8080/"
        },
        "id": "fUqMXu2jjyAH",
        "outputId": "98110ef6-3969-4138-83cb-9849f8bf4772"
      },
      "execution_count": null,
      "outputs": [
        {
          "output_type": "stream",
          "name": "stdout",
          "text": [
            "(10, 20, 30)\n"
          ]
        }
      ]
    },
    {
      "cell_type": "markdown",
      "source": [
        "12. Write a code to access the first element of the tuple ('apple', 'banana', 'cherry') ?"
      ],
      "metadata": {
        "id": "Pt5ZxAvsJO66"
      }
    },
    {
      "cell_type": "code",
      "source": [
        "\n",
        "fruits = ('apple', 'banana', 'cherry')\n",
        "print(fruits[0])"
      ],
      "metadata": {
        "colab": {
          "base_uri": "https://localhost:8080/"
        },
        "id": "5mxoNu8vj3f5",
        "outputId": "e41c5d21-1732-421e-e2de-c049bd12c636"
      },
      "execution_count": null,
      "outputs": [
        {
          "output_type": "stream",
          "name": "stdout",
          "text": [
            "apple\n"
          ]
        }
      ]
    },
    {
      "cell_type": "markdown",
      "source": [
        "13. Write a code to count how many times the number 2 appears in the tuple (1, 2, 3, 2, 4, 2) ?"
      ],
      "metadata": {
        "id": "zh16uqMHJbbb"
      }
    },
    {
      "cell_type": "code",
      "source": [
        "\n",
        "my_tuple = (1, 2, 3, 2, 4, 2)\n",
        "print(my_tuple.count(2))"
      ],
      "metadata": {
        "colab": {
          "base_uri": "https://localhost:8080/"
        },
        "id": "H16F3bptj9H9",
        "outputId": "70b58f24-1afd-47a6-b91a-960849dd1efb"
      },
      "execution_count": null,
      "outputs": [
        {
          "output_type": "stream",
          "name": "stdout",
          "text": [
            "3\n"
          ]
        }
      ]
    },
    {
      "cell_type": "markdown",
      "source": [
        "14. Write a code to find the index of the element \"cat\" in the tuple ('dog', 'cat', 'rabbit') ?"
      ],
      "metadata": {
        "id": "miEjXzHGJfSf"
      }
    },
    {
      "cell_type": "code",
      "source": [
        "\n",
        "animals = ('dog', 'cat', 'rabbit')\n",
        "print(animals.index('cat'))"
      ],
      "metadata": {
        "colab": {
          "base_uri": "https://localhost:8080/"
        },
        "id": "m33fd6PhkCl_",
        "outputId": "d1de92bd-1f74-41a7-9220-b8a7293688f6"
      },
      "execution_count": null,
      "outputs": [
        {
          "output_type": "stream",
          "name": "stdout",
          "text": [
            "1\n"
          ]
        }
      ]
    },
    {
      "cell_type": "markdown",
      "source": [
        "15. Write a code to check if the element \"banana\" is in the tuple ('apple', 'orange', 'banana')  ?\n",
        "fruits = ('apple', 'orange', 'banana')"
      ],
      "metadata": {
        "id": "HxXrNZOjJkMj"
      }
    },
    {
      "cell_type": "code",
      "source": [
        "\n",
        "print('banana' in fruits)"
      ],
      "metadata": {
        "colab": {
          "base_uri": "https://localhost:8080/"
        },
        "id": "s1_zLx9EkJ-V",
        "outputId": "41d2c46c-b3f4-465c-fe0d-73416549e2fa"
      },
      "execution_count": null,
      "outputs": [
        {
          "output_type": "stream",
          "name": "stdout",
          "text": [
            "True\n"
          ]
        }
      ]
    },
    {
      "cell_type": "markdown",
      "source": [
        "16. Write a code to create a set with the elements 1, 2, 3, 4, 5 and print it ?"
      ],
      "metadata": {
        "id": "vPwzyMY6JoFX"
      }
    },
    {
      "cell_type": "code",
      "source": [
        "\n",
        "my_set = {1, 2, 3, 4, 5}\n",
        "print(my_set)"
      ],
      "metadata": {
        "colab": {
          "base_uri": "https://localhost:8080/"
        },
        "id": "DuYkKafLkQ8L",
        "outputId": "3768fba8-d136-4f31-e12c-9990fe0d942d"
      },
      "execution_count": null,
      "outputs": [
        {
          "output_type": "stream",
          "name": "stdout",
          "text": [
            "{1, 2, 3, 4, 5}\n"
          ]
        }
      ]
    },
    {
      "cell_type": "markdown",
      "source": [
        "17. Write a code to add the element 6 to the set {1, 2, 3, 4} ?"
      ],
      "metadata": {
        "id": "vgsUML_sKACm"
      }
    },
    {
      "cell_type": "code",
      "source": [
        "\n",
        "my_set = {1, 2, 3, 4}\n",
        "my_set.add(6)\n",
        "print(my_set)"
      ],
      "metadata": {
        "colab": {
          "base_uri": "https://localhost:8080/"
        },
        "id": "fxV4mj0-kVy2",
        "outputId": "871efa50-1a85-4c76-9056-28b8c6c295f4"
      },
      "execution_count": null,
      "outputs": [
        {
          "output_type": "stream",
          "name": "stdout",
          "text": [
            "{1, 2, 3, 4, 6}\n"
          ]
        }
      ]
    },
    {
      "cell_type": "markdown",
      "source": [
        "18. Write a code to create a tuple with the elements 10, 20, 30 and print it ?"
      ],
      "metadata": {
        "id": "97jeO4VMKEBM"
      }
    },
    {
      "cell_type": "code",
      "source": [
        "\n",
        "my_tuple = (10, 20, 30)\n",
        "print(my_tuple)"
      ],
      "metadata": {
        "colab": {
          "base_uri": "https://localhost:8080/"
        },
        "id": "CVLMan5Wkbrs",
        "outputId": "4c72faf6-d9d4-4402-c7d9-de1b7964969f"
      },
      "execution_count": null,
      "outputs": [
        {
          "output_type": "stream",
          "name": "stdout",
          "text": [
            "(10, 20, 30)\n"
          ]
        }
      ]
    },
    {
      "cell_type": "markdown",
      "source": [
        "19. Write a code to access the first element of the tuple ('apple', 'banana', 'cherry') ?"
      ],
      "metadata": {
        "id": "GQFoAfx6KISJ"
      }
    },
    {
      "cell_type": "code",
      "source": [
        "\n",
        "fruits = ('apple', 'banana', 'cherry')\n",
        "print(fruits[0])"
      ],
      "metadata": {
        "colab": {
          "base_uri": "https://localhost:8080/"
        },
        "id": "jtZgdlmlkmj5",
        "outputId": "6cf9d015-a602-4ef3-b62e-7c847bb9351c"
      },
      "execution_count": null,
      "outputs": [
        {
          "output_type": "stream",
          "name": "stdout",
          "text": [
            "apple\n"
          ]
        }
      ]
    },
    {
      "cell_type": "markdown",
      "source": [
        "20. Write a code to count how many times the number 2 appears in the tuple (1, 2, 3, 2, 4, 2) ?"
      ],
      "metadata": {
        "id": "5KKMD4L2KPSE"
      }
    },
    {
      "cell_type": "code",
      "source": [
        "\n",
        "my_tuple = (1, 2, 3, 2, 4, 2)\n",
        "print(my_tuple.count(2))"
      ],
      "metadata": {
        "colab": {
          "base_uri": "https://localhost:8080/"
        },
        "id": "gGNUH6v1kvDE",
        "outputId": "12213ee3-5281-4a98-f0c4-23e2e8f720a3"
      },
      "execution_count": null,
      "outputs": [
        {
          "output_type": "stream",
          "name": "stdout",
          "text": [
            "3\n"
          ]
        }
      ]
    },
    {
      "cell_type": "markdown",
      "source": [
        "21. Write a code to find the index of the element \"cat\" in the tuple ('dog', 'cat', 'rabbit') ?"
      ],
      "metadata": {
        "id": "ppKp6LhFKVcP"
      }
    },
    {
      "cell_type": "code",
      "source": [
        "\n",
        "animals = ('dog', 'cat', 'rabbit')\n",
        "print(animals.index('cat'))"
      ],
      "metadata": {
        "colab": {
          "base_uri": "https://localhost:8080/"
        },
        "id": "5-06e55jk1O2",
        "outputId": "b970b383-a043-4437-a450-38df244abc4b"
      },
      "execution_count": null,
      "outputs": [
        {
          "output_type": "stream",
          "name": "stdout",
          "text": [
            "1\n"
          ]
        }
      ]
    },
    {
      "cell_type": "markdown",
      "source": [
        "22. Write a code to check if the element \"banana\" is in the tuple ('apple', 'orange', 'banana') ?"
      ],
      "metadata": {
        "id": "mASb1ca6KfPx"
      }
    },
    {
      "cell_type": "code",
      "source": [
        "\n",
        "fruits = ('apple', 'orange', 'banana')\n",
        "print('banana' in fruits)"
      ],
      "metadata": {
        "colab": {
          "base_uri": "https://localhost:8080/"
        },
        "id": "tjczvHEbk6wL",
        "outputId": "97d0e355-b860-4daa-aeb5-1d0f40ba73cb"
      },
      "execution_count": null,
      "outputs": [
        {
          "output_type": "stream",
          "name": "stdout",
          "text": [
            "True\n"
          ]
        }
      ]
    },
    {
      "cell_type": "markdown",
      "source": [
        "23. Write a code to create a set with the elements 1, 2, 3, 4, 5 and print it ?"
      ],
      "metadata": {
        "id": "ZBB6C9dhKi5p"
      }
    },
    {
      "cell_type": "code",
      "source": [
        "\n",
        "my_set = {1, 2, 3, 4, 5}\n",
        "print(my_set)"
      ],
      "metadata": {
        "colab": {
          "base_uri": "https://localhost:8080/"
        },
        "id": "TGKEV-yqlAPW",
        "outputId": "18de5f6b-3183-4d36-b6ae-7f55c17564d7"
      },
      "execution_count": null,
      "outputs": [
        {
          "output_type": "stream",
          "name": "stdout",
          "text": [
            "{1, 2, 3, 4, 5}\n"
          ]
        }
      ]
    },
    {
      "cell_type": "markdown",
      "source": [
        "24. Write a code to add the element 6 to the set {1, 2, 3, 4} ?"
      ],
      "metadata": {
        "id": "_Oe985h8Km89"
      }
    },
    {
      "cell_type": "code",
      "source": [
        "\n",
        "my_set = {1, 2, 3, 4}\n",
        "my_set.add(6)\n",
        "print(my_set)"
      ],
      "metadata": {
        "colab": {
          "base_uri": "https://localhost:8080/"
        },
        "id": "FOVd10A5lGgT",
        "outputId": "b42353c1-cd88-465e-8824-7ee184451f21"
      },
      "execution_count": null,
      "outputs": [
        {
          "output_type": "stream",
          "name": "stdout",
          "text": [
            "{1, 2, 3, 4, 6}\n"
          ]
        }
      ]
    }
  ]
}